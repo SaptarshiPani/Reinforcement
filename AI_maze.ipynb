{
  "nbformat": 4,
  "nbformat_minor": 0,
  "metadata": {
    "colab": {
      "name": "AI maze.ipynb",
      "provenance": []
    },
    "kernelspec": {
      "name": "python3",
      "display_name": "Python 3"
    },
    "language_info": {
      "name": "python"
    },
    "accelerator": "GPU"
  },
  "cells": [
    {
      "cell_type": "code",
      "metadata": {
        "id": "6-Tz-w70NIxr"
      },
      "source": [
        "import numpy as np"
      ],
      "execution_count": 3,
      "outputs": []
    },
    {
      "cell_type": "code",
      "metadata": {
        "id": "iAzKZ8JmNShP"
      },
      "source": [
        "R=np.matrix([[-1,-1,-1,-1,0,-1],[-1,-1,-1,0,-1,100],[-1,-1,-1,0,-1,-1],[-1,0,0,-1,0,-1],[-1,0,0,-1,-1,100],[-1,0,-1,-1,-0,100]])\n",
        "Q=np.matrix(np.zeros([6,6]))\n",
        "gamma=0.8\n",
        "initial_state=1\n",
        "def available_actions(state):\n",
        "  current_state_row=R[state,]\n",
        "  av_act=np.where(current_state_row>=0)[1]\n",
        "  return av_act\n",
        "available_act=available_actions(initial_state)"
      ],
      "execution_count": 4,
      "outputs": []
    },
    {
      "cell_type": "code",
      "metadata": {
        "id": "Z6NmlRlTOroh"
      },
      "source": [
        "def sample_next_action(available_actions_range):\n",
        "  next_action=int(np.random.choice(available_act,1))\n",
        "  return next_action"
      ],
      "execution_count": 5,
      "outputs": []
    },
    {
      "cell_type": "code",
      "metadata": {
        "id": "4sSFNqMNPR4a"
      },
      "source": [
        "action=sample_next_action(available_act)\n",
        "def update(current_state,action,gamma):\n",
        "  max_index=np.where(Q[action,]==np.max(Q[action,]))[1]\n",
        "  if max_index.shape[0]>1:\n",
        "    max_index=int(np.random.choice(max_index,size=1))\n",
        "  else:\n",
        "    max_index=int(max_index)\n",
        "  max_value=Q[action,max_index]\n",
        "  Q[current_state,action]=R[current_state,action]+gamma*max_value\n",
        "update(initial_state,action,gamma)"
      ],
      "execution_count": 7,
      "outputs": []
    },
    {
      "cell_type": "code",
      "metadata": {
        "id": "asKWKXcBQpWl",
        "colab": {
          "base_uri": "https://localhost:8080/"
        },
        "outputId": "c7ed3353-a9cf-47b9-c9d9-ea8daae85980"
      },
      "source": [
        "for i in range(10000):\n",
        "  current_state=np.random.randint(0,int(Q.shape[0]))\n",
        "  available_act=available_actions(current_state)\n",
        "  action=sample_next_action(available_act)\n",
        "  update(current_state,action,gamma)\n",
        "print(\"Trained Q matrix:\")\n",
        "print(Q/np.max(Q)*100)"
      ],
      "execution_count": 9,
      "outputs": [
        {
          "output_type": "stream",
          "name": "stdout",
          "text": [
            "Trained Q matrix:\n",
            "[[  0.    0.    0.    0.   80.    0. ]\n",
            " [  0.    0.    0.   64.    0.  100. ]\n",
            " [  0.    0.    0.   64.    0.    0. ]\n",
            " [  0.   80.   51.2   0.   80.    0. ]\n",
            " [  0.   80.   51.2   0.    0.  100. ]\n",
            " [  0.   80.    0.    0.   80.  100. ]]\n"
          ]
        }
      ]
    },
    {
      "cell_type": "code",
      "metadata": {
        "id": "2q22cjU6RdLt",
        "colab": {
          "base_uri": "https://localhost:8080/"
        },
        "outputId": "e152a408-26cb-413f-ae9d-8064f89016bc"
      },
      "source": [
        "current_state=1\n",
        "steps=[current_state]\n",
        "while current_state!=5:\n",
        "  next_step_index=np.where(Q[current_state]==np.max(Q[current_state,]))[1]\n",
        "  if next_step_index.shape[0]>1:\n",
        "    next_step_index=int(np.random.choice(next_step_index,size=1))\n",
        "  else:\n",
        "    next_step_index=int(next_step_index)\n",
        "  steps.append(next_step_index)\n",
        "  current_state=next_step_index\n",
        "  print(\"Selected Path:\")\n",
        "  print(steps)"
      ],
      "execution_count": 10,
      "outputs": [
        {
          "output_type": "stream",
          "name": "stdout",
          "text": [
            "Selected Path:\n",
            "[1, 5]\n"
          ]
        }
      ]
    }
  ]
}